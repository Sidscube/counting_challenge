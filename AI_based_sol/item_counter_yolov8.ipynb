{
 "cells": [
  {
   "cell_type": "markdown",
   "metadata": {},
   "source": [
    "# YOLOv8 Segmentation for Counting Challenge"
   ]
  },
  {
   "cell_type": "code",
   "execution_count": 43,
   "metadata": {},
   "outputs": [],
   "source": [
    "# One run is enough of this cell\n",
    "\n",
    "# Basic package\n",
    "!pip install -q ultralytics opencv-python matplotlib\n",
    "\n",
    "from ultralytics import YOLO\n",
    "import cv2\n",
    "import matplotlib.pyplot as plt\n",
    "\n",
    "# Loading of the  YOLOv8 segmentation model\n",
    "model = YOLO('yolov8n-seg.pt') "
   ]
  },
  {
   "cell_type": "code",
   "execution_count": 44,
   "metadata": {},
   "outputs": [
    {
     "name": "stdout",
     "output_type": "stream",
     "text": [
      "\n",
      "image 1/1 C:\\Users\\sidde\\AI\\img1.jpg: 384x640 3 cats, 62.6ms\n",
      "Speed: 1.6ms preprocess, 62.6ms inference, 2.8ms postprocess per image at shape (1, 3, 384, 640)\n",
      "the total no of items detected are : 3\n"
     ]
    }
   ],
   "source": [
    "\n",
    "image_path = 'img1.jpg'  # actual image path\n",
    "results = model(image_path)\n",
    "\n",
    "# Output : image with segmentatio\n",
    "results[0].show()\n",
    "\n",
    "#  no of det  items\n",
    "count = len(results[0].boxes)\n",
    "print(f'the total no of items detected are : {count}')"
   ]
  },
  {
   "cell_type": "code",
   "execution_count": 45,
   "metadata": {},
   "outputs": [
    {
     "name": "stdout",
     "output_type": "stream",
     "text": [
      "\n",
      "image 1/1 C:\\Users\\sidde\\AI\\img2.jpg: 512x640 3 books, 94.5ms\n",
      "Speed: 4.2ms preprocess, 94.5ms inference, 3.7ms postprocess per image at shape (1, 3, 512, 640)\n",
      "the total no of items detected are : 3\n"
     ]
    }
   ],
   "source": [
    "image_path = 'img2.jpg'  # actual image path\n",
    "results = model(image_path)\n",
    "\n",
    "# Output : image with segmentatio\n",
    "results[0].show()\n",
    "\n",
    "#  no of det  items\n",
    "count = len(results[0].boxes)\n",
    "print(f'the total no of items detected are : {count}')"
   ]
  },
  {
   "cell_type": "code",
   "execution_count": 46,
   "metadata": {},
   "outputs": [
    {
     "name": "stdout",
     "output_type": "stream",
     "text": [
      "\n",
      "image 1/1 C:\\Users\\sidde\\AI\\img3.jpg: 320x640 5 umbrellas, 4 kites, 1 cell phone, 84.2ms\n",
      "Speed: 3.6ms preprocess, 84.2ms inference, 8.7ms postprocess per image at shape (1, 3, 320, 640)\n",
      "the total no of items detected are : 10\n"
     ]
    }
   ],
   "source": [
    "image_path = 'img3.jpg'  # actual image path\n",
    "results = model(image_path)\n",
    "\n",
    "# Output : image with segmentatio\n",
    "results[0].show()\n",
    "\n",
    "#  no of det items\n",
    "nos = len(results[0].boxes)\n",
    "print(f'the total no of items detected are : {nos}')"
   ]
  },
  {
   "cell_type": "code",
   "execution_count": 47,
   "metadata": {},
   "outputs": [
    {
     "data": {
      "text/plain": [
       "'/*\\nHere’s the full list of identifiable objects (COCO 80 classes):\\n\\nPerson:\\nperson\\n\\nVehicles:\\nbicycle\\ncar\\nmotorcycle\\nairplane\\nbus\\ntrain\\ntruck\\nboat\\n\\nOutdoor Objects:\\ntraffic light\\nfire hydrant\\nstop sign\\nparking meter\\nbench\\n\\nIndoor & Furniture:\\nbird\\ncat\\ndog\\nhorse\\nsheep\\ncow\\nelephant\\nbear\\nzebra\\ngiraffe\\n\\nAccessories & Tools:\\nbackpack\\numbrella\\nhandbag\\ntie\\nsuitcase\\n\\nSports:\\nfrisbee\\nskis\\nsnowboard\\nsports ball\\nkite\\nbaseball bat\\nbaseball glove\\nskateboard\\nsurfboard\\ntennis racket\\n\\nKitchen & Furniture:\\nbottle\\nwine glass\\ncup\\nfork\\nknife\\nspoon\\nbowl\\n\\nFurniture:\\nbanana\\napple\\nsandwich\\norange\\nbroccoli\\ncarrot\\nhot dog\\npizza\\ndonut\\ncake\\n\\nHousehold Items:\\nchair\\ncouch\\npotted plant\\nbed\\ndining table\\ntoilet\\ntv\\nlaptop\\nmouse\\nremote\\nkeyboard\\ncell phone\\n\\nAppliances:\\nmicrowave\\noven\\ntoaster\\nsink\\nrefrigerator\\n\\nOthers:\\nbook\\nclock\\nvase\\nscissors\\nteddy bear\\nhair drier\\ntoothbrush\\n*/\\n'"
      ]
     },
     "execution_count": 47,
     "metadata": {},
     "output_type": "execute_result"
    }
   ],
   "source": [
    "\"\"\"/*\n",
    "Here’s the full list of identifiable objects (COCO 80 classes):\n",
    "\n",
    "Person:\n",
    "person\n",
    "\n",
    "Vehicles:\n",
    "bicycle\n",
    "car\n",
    "motorcycle\n",
    "airplane\n",
    "bus\n",
    "train\n",
    "truck\n",
    "boat\n",
    "\n",
    "Outdoor Objects:\n",
    "traffic light\n",
    "fire hydrant\n",
    "stop sign\n",
    "parking meter\n",
    "bench\n",
    "\n",
    "Indoor & Furniture:\n",
    "bird\n",
    "cat\n",
    "dog\n",
    "horse\n",
    "sheep\n",
    "cow\n",
    "elephant\n",
    "bear\n",
    "zebra\n",
    "giraffe\n",
    "\n",
    "Accessories & Tools:\n",
    "backpack\n",
    "umbrella\n",
    "handbag\n",
    "tie\n",
    "suitcase\n",
    "\n",
    "Sports:\n",
    "frisbee\n",
    "skis\n",
    "snowboard\n",
    "sports ball\n",
    "kite\n",
    "baseball bat\n",
    "baseball glove\n",
    "skateboard\n",
    "surfboard\n",
    "tennis racket\n",
    "\n",
    "Kitchen & Furniture:\n",
    "bottle\n",
    "wine glass\n",
    "cup\n",
    "fork\n",
    "knife\n",
    "spoon\n",
    "bowl\n",
    "\n",
    "Furniture:\n",
    "banana\n",
    "apple\n",
    "sandwich\n",
    "orange\n",
    "broccoli\n",
    "carrot\n",
    "hot dog\n",
    "pizza\n",
    "donut\n",
    "cake\n",
    "\n",
    "Household Items:\n",
    "chair\n",
    "couch\n",
    "potted plant\n",
    "bed\n",
    "dining table\n",
    "toilet\n",
    "tv\n",
    "laptop\n",
    "mouse\n",
    "remote\n",
    "keyboard\n",
    "cell phone\n",
    "\n",
    "Appliances:\n",
    "microwave\n",
    "oven\n",
    "toaster\n",
    "sink\n",
    "refrigerator\n",
    "\n",
    "Others:\n",
    "book\n",
    "clock\n",
    "vase\n",
    "scissors\n",
    "teddy bear\n",
    "hair drier\n",
    "toothbrush\n",
    "*/\n",
    "\"\"\"\n"
   ]
  },
  {
   "cell_type": "code",
   "execution_count": null,
   "metadata": {},
   "outputs": [],
   "source": []
  }
 ],
 "metadata": {
  "kernelspec": {
   "display_name": "Python 3 (ipykernel)",
   "language": "python",
   "name": "python3"
  },
  "language_info": {
   "codemirror_mode": {
    "name": "ipython",
    "version": 3
   },
   "file_extension": ".py",
   "mimetype": "text/x-python",
   "name": "python",
   "nbconvert_exporter": "python",
   "pygments_lexer": "ipython3",
   "version": "3.12.4"
  }
 },
 "nbformat": 4,
 "nbformat_minor": 4
}
