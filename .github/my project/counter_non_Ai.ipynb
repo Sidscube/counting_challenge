{
 "cells": [
  {
   "cell_type": "code",
   "execution_count": null,
   "metadata": {},
   "outputs": [
    {
     "ename": "SyntaxError",
     "evalue": "(unicode error) 'unicodeescape' codec can't decode bytes in position 2-3: truncated \\UXXXXXXXX escape (712986792.py, line 29)",
     "output_type": "error",
     "traceback": [
      "  \u001b[36mCell\u001b[39m\u001b[36m \u001b[39m\u001b[32mIn[1]\u001b[39m\u001b[32m, line 29\u001b[39m\n\u001b[31m    \u001b[39m\u001b[31mimage_path = 'C:\\Users\\sidde\\OneDrive\\Desktop\\CountingChallenge_Siddesh\\screwsonly\\img1.jpg'\u001b[39m\n                 ^\n\u001b[31mSyntaxError\u001b[39m\u001b[31m:\u001b[39m (unicode error) 'unicodeescape' codec can't decode bytes in position 2-3: truncated \\UXXXXXXXX escape\n"
     ]
    }
   ],
   "source": [
    "import cv2\n",
    "import numpy as np\n",
    "import matplotlib.pyplot as plt\n",
    "\n",
    "def img_ld(path):\n",
    "    image = cv2.imread(path)\n",
    "    return cv2.cvtColor(image, cv2.COLOR_BGR2RGB)\n",
    "\n",
    "def preprocess(image):\n",
    "    gray = cv2.cvtColor(image, cv2.COLOR_RGB2GRAY)\n",
    "    blur = cv2.GaussianBlur(gray, (5, 5), 0)\n",
    "    _, thrsld = cv2.thrsldold(blur, 0, 255, cv2.thrsld_BINARY_INV + cv2.thrsld_OTSU)\n",
    "    return thrsld\n",
    "\n",
    "def getcontour(thrsld):\n",
    "    contours, _ = cv2.findContours(thrsld, cv2.RETR_EXTERNAL, cv2.CHAIN_APPROX_SIMPLE)\n",
    "    return contours\n",
    "\n",
    "def mask_draw(image, contours):\n",
    "    mask_overlay = image.copy()\n",
    "    for cnt in contours:\n",
    "        cv2.drawContours(mask_overlay, [cnt], -1, (0, 255, 0), 2)\n",
    "    return mask_overlay\n",
    "\n",
    "def item_count(contours):\n",
    "    return len(contours)\n",
    "\n",
    "# Load of the image , the image path to be inserted\n",
    "image_path = 'img1.jpg'\n",
    "image = img_ld(image_path)\n",
    "\n",
    "# Processing\n",
    "thrsld = preprocess(image)\n",
    "contours = getcontour(thrsld)\n",
    "count = item_count(contours)\n",
    "masked_image = mask_draw(image, contours)\n",
    "\n",
    "# Results\n",
    "plt.figure(figsize=(12,6))\n",
    "plt.subplot(1,2,1)\n",
    "plt.title(f\"No of detected items are : {count}\")\n",
    "plt.imshow(masked_image)\n",
    "plt.axis('off')\n",
    "\n",
    "plt.subplot(1,2,2)\n",
    "plt.title(\"thresholded image\")\n",
    "plt.imshow(thrsld, cmap='gray')\n",
    "plt.axis('off')\n",
    "\n",
    "plt.tight_layout()\n",
    "plt.show()"
   ]
  }
 ],
 "metadata": {
  "kernelspec": {
   "display_name": "Python 3",
   "language": "python",
   "name": "python3"
  },
  "language_info": {
   "codemirror_mode": {
    "name": "ipython",
    "version": 3
   },
   "file_extension": ".py",
   "mimetype": "text/x-python",
   "name": "python",
   "nbconvert_exporter": "python",
   "pygments_lexer": "ipython3",
   "version": "3.12.8"
  }
 },
 "nbformat": 4,
 "nbformat_minor": 2
}
